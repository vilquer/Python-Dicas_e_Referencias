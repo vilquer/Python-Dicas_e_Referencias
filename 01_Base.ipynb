{
  "nbformat": 4,
  "nbformat_minor": 0,
  "metadata": {
    "colab": {
      "name": "01 - Base.ipynb",
      "provenance": [],
      "authorship_tag": "ABX9TyPvv1xKW1Oa0XKVYliDnKvs",
      "include_colab_link": true
    },
    "kernelspec": {
      "name": "python3",
      "display_name": "Python 3"
    },
    "language_info": {
      "name": "python"
    }
  },
  "cells": [
    {
      "cell_type": "markdown",
      "metadata": {
        "id": "view-in-github",
        "colab_type": "text"
      },
      "source": [
        "<a href=\"https://colab.research.google.com/github/vilquer/Python-Dicas_e_Referencias/blob/main/01_Base.ipynb\" target=\"_parent\"><img src=\"https://colab.research.google.com/assets/colab-badge.svg\" alt=\"Open In Colab\"/></a>"
      ]
    },
    {
      "cell_type": "code",
      "metadata": {
        "id": "A45-_tH-xP_t"
      },
      "source": [
        "import pandas as pd"
      ],
      "execution_count": null,
      "outputs": []
    },
    {
      "cell_type": "code",
      "metadata": {
        "id": "gJpReKJRxSIl",
        "colab": {
          "base_uri": "https://localhost:8080/"
        },
        "outputId": "0c651297-efa9-44b2-a1eb-a36c6fc21446"
      },
      "source": [
        "print('Qualquer coisa!')"
      ],
      "execution_count": null,
      "outputs": [
        {
          "output_type": "stream",
          "text": [
            "Qualquer coisa!\n"
          ],
          "name": "stdout"
        }
      ]
    },
    {
      "cell_type": "code",
      "metadata": {
        "id": "RkFX5nMwaj_a"
      },
      "source": [
        "from IPython.core.display import display, HTML"
      ],
      "execution_count": 2,
      "outputs": []
    },
    {
      "cell_type": "code",
      "metadata": {
        "id": "VWO3oIhY8Zbm",
        "colab": {
          "base_uri": "https://localhost:8080/",
          "height": 155
        },
        "outputId": "d5dc9f0e-5cb4-4bb1-d5fc-2afdfcdbc958"
      },
      "source": [
        "display(HTML('<h1>Hello, world!</h1>'))\n",
        "print(\"Here's a link:\")\n",
        "display(HTML(\"<a href='http://www.google.com' target='_blank'>www.google.com</a>\"))\n",
        "print(\"some more printed text ...\")\n",
        "display(HTML('<p>Paragraph text here ...</p>'))"
      ],
      "execution_count": 3,
      "outputs": [
        {
          "output_type": "display_data",
          "data": {
            "text/html": [
              "<h1>Hello, world!</h1>"
            ],
            "text/plain": [
              "<IPython.core.display.HTML object>"
            ]
          },
          "metadata": {
            "tags": []
          }
        },
        {
          "output_type": "stream",
          "text": [
            "Here's a link:\n"
          ],
          "name": "stdout"
        },
        {
          "output_type": "display_data",
          "data": {
            "text/html": [
              "<a href='http://www.google.com' target='_blank'>www.google.com</a>"
            ],
            "text/plain": [
              "<IPython.core.display.HTML object>"
            ]
          },
          "metadata": {
            "tags": []
          }
        },
        {
          "output_type": "stream",
          "text": [
            "some more printed text ...\n"
          ],
          "name": "stdout"
        },
        {
          "output_type": "display_data",
          "data": {
            "text/html": [
              "<p>Paragraph text here ...</p>"
            ],
            "text/plain": [
              "<IPython.core.display.HTML object>"
            ]
          },
          "metadata": {
            "tags": []
          }
        }
      ]
    }
  ]
}